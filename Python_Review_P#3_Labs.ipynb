{
 "cells": [
  {
   "cell_type": "markdown",
   "id": "2d4a0e4d",
   "metadata": {},
   "source": [
    "## Lab1-Lists\n",
    "Given the following list : [5, 4, 17, 19, 30, 2, 7, 10, 45]\n",
    "- Q1: Write a Python program to sum all the items in the list.\n",
    "- Q2: Write a Python program to get the largest number from the list.\n",
    "- Q3: Use list comprehension, create a new list from the above list containing only even numbers.\n",
    "- Q4: Use list slicing to get a new list from the previous list starting from the start to the 5th element in the list."
   ]
  },
  {
   "cell_type": "code",
   "execution_count": 3,
   "id": "88e0fe9c",
   "metadata": {},
   "outputs": [
    {
     "ename": "TypeError",
     "evalue": "'int' object is not callable",
     "output_type": "error",
     "traceback": [
      "\u001b[1;31m---------------------------------------------------------------------------\u001b[0m",
      "\u001b[1;31mTypeError\u001b[0m                                 Traceback (most recent call last)",
      "Cell \u001b[1;32mIn[3], line 3\u001b[0m\n\u001b[0;32m      1\u001b[0m ls \u001b[38;5;241m=\u001b[39m [\u001b[38;5;241m5\u001b[39m, \u001b[38;5;241m4\u001b[39m, \u001b[38;5;241m17\u001b[39m, \u001b[38;5;241m19\u001b[39m, \u001b[38;5;241m30\u001b[39m, \u001b[38;5;241m2\u001b[39m, \u001b[38;5;241m7\u001b[39m, \u001b[38;5;241m10\u001b[39m, \u001b[38;5;241m45\u001b[39m]\n\u001b[0;32m      2\u001b[0m \u001b[38;5;66;03m#Q1 \u001b[39;00m\n\u001b[1;32m----> 3\u001b[0m lsSum \u001b[38;5;241m=\u001b[39m \u001b[38;5;28;43msum\u001b[39;49m\u001b[43m(\u001b[49m\u001b[43mls\u001b[49m\u001b[43m)\u001b[49m\n\u001b[0;32m      4\u001b[0m \u001b[38;5;28mprint\u001b[39m(\u001b[38;5;124m\"\u001b[39m\u001b[38;5;124mbuilt in function:\u001b[39m\u001b[38;5;124m\"\u001b[39m, lsSum, end\u001b[38;5;241m=\u001b[39m\u001b[38;5;124m\"\u001b[39m\u001b[38;5;124m\"\u001b[39m)\n\u001b[0;32m      5\u001b[0m \u001b[38;5;66;03m#another way of doing it without usijng the built in function\u001b[39;00m\n",
      "\u001b[1;31mTypeError\u001b[0m: 'int' object is not callable"
     ]
    }
   ],
   "source": [
    "ls = [5, 4, 17, 19, 30, 2, 7, 10, 45]\n",
    "#Q1 \n",
    "lsSum = sum(ls)\n",
    "print(\"built in function:\", lsSum, end=\"\")\n",
    "#another way of doing it without usijng the built in function\n",
    "sum = 0\n",
    "for i in ls:\n",
    "    sum += i\n",
    "print(\" My loop:\", sum)\n",
    "\n",
    "#Q2\n",
    "lsLargest = max(ls)\n",
    "print(\"built in function:\", lsLargest, end=\"\")\n",
    "\n",
    "#another way of doing it without usijng the built in function\n",
    "max = ls[0]\n",
    "for i in ls:\n",
    "    if max < i:\n",
    "        max = i\n",
    "print(\" My loop:\", max)\n",
    " \n",
    "#Q3\n",
    "evenLst = [n for n in ls if n % 2 == 0]\n",
    "print(evenLst)\n",
    "#Q4\n",
    "ls2 = ls[:5]\n",
    "print(ls2)\n",
    "\n",
    "\n",
    "# Note: we could always do it by ourselves rather than using the built in functions\n",
    "# but most of the time it is better use the built in function for many reasons"
   ]
  },
  {
   "cell_type": "markdown",
   "id": "4df61e4c",
   "metadata": {},
   "source": [
    "## Lab2-Dictionary\n",
    "\n",
    "Build a phone book program that receives the phone number, and returns the name of the owner. \n",
    "You can follow the table below:\n",
    "\n",
    "| Name    | Number      |\n",
    "| -------- | ---------- |\n",
    "| Amal     | 1111111111 |\n",
    "| Mohammed | 2222222222 |\n",
    "| Khadijah | 3333333333 |\n",
    "| Abdullah  | 4444444444 |\n",
    "| Rawan    | 5555555555 |\n",
    "| Faisal   | 6666666666 |\n",
    "| Layla    | 7777777777 |\n",
    "\n",
    "\n",
    "- If the number exists, print the owner. Otherwise, print \"Sorry, the number is not found\".\n",
    "- If the number is less or more than 10 numbers, print \"This is invalid number\".\n",
    "- If the number contains letters or symbols, print \"This is invalid number\"."
   ]
  },
  {
   "cell_type": "code",
   "execution_count": null,
   "id": "7d53c06c",
   "metadata": {},
   "outputs": [
    {
     "name": "stdout",
     "output_type": "stream",
     "text": [
      "This is invalid number\n",
      "Sorry, the number is not found\n"
     ]
    }
   ],
   "source": [
    "# create a dictionary with names as keys and numbers as values\n",
    "phoneBook = {'Amal': '1111111111', 'Mohammed': '2222222222', 'Khadijah': '3333333333', \n",
    "             'Abdullah': '4444444444', 'Rawan': '5555555555', 'Faisal': '6666666666', 'Layla': '7777777777'}\n",
    "\n",
    "# get input from the user and cast it into string \n",
    "phone = str(input(\"Please enter the phone number: \"))\n",
    "\n",
    "# a boolean flag to know if we found the number in the phoneBook \n",
    "found = False\n",
    "\n",
    "for key, value in phoneBook.items():\n",
    "    #check if the number length doesn't equal to 10 or if it contain any symbols or characters (Q2 and Q3) if so exit the loop\n",
    "    if len(phone) != 10 or not phone.isdigit():\n",
    "        print(\"This is invalid number\")\n",
    "        break\n",
    "    #if we found the number in the phone book we give the name of the number and change the flag (found) to True to know that we have found it and exit the loop\n",
    "    if(phone == value):\n",
    "        print(\"The name of the owner of phone number\", phone, \"is:\",key)\n",
    "        found = True\n",
    "        break\n",
    "\n",
    "#if didn't find the number in the phone book we print the messege to let the user know\n",
    "if not found:\n",
    "    print(\"Sorry, the number is not found\")"
   ]
  },
  {
   "cell_type": "code",
   "execution_count": null,
   "id": "ffdffaec",
   "metadata": {},
   "outputs": [],
   "source": []
  },
  {
   "cell_type": "code",
   "execution_count": null,
   "id": "93b05ba5",
   "metadata": {},
   "outputs": [],
   "source": []
  }
 ],
 "metadata": {
  "kernelspec": {
   "display_name": "Python 3 (ipykernel)",
   "language": "python",
   "name": "python3"
  },
  "language_info": {
   "codemirror_mode": {
    "name": "ipython",
    "version": 3
   },
   "file_extension": ".py",
   "mimetype": "text/x-python",
   "name": "python",
   "nbconvert_exporter": "python",
   "pygments_lexer": "ipython3",
   "version": "3.11.5"
  }
 },
 "nbformat": 4,
 "nbformat_minor": 5
}
