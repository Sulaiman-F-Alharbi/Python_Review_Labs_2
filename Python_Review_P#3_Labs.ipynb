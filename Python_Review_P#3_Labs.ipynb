{
 "cells": [
  {
   "cell_type": "markdown",
   "id": "2d4a0e4d",
   "metadata": {},
   "source": [
    "## Lab1-Lists\n",
    "Given the following list : [5, 4, 17, 19, 30, 2, 7, 10, 45]\n",
    "- Q1: Write a Python program to sum all the items in the list.\n",
    "- Q2: Write a Python program to get the largest number from the list.\n",
    "- Q3: Use list comprehension, create a new list from the above list containing only even numbers.\n",
    "- Q4: Use list slicing to get a new list from the previous list starting from the start to the 5th element in the list."
   ]
  },
  {
   "cell_type": "code",
   "execution_count": 6,
   "id": "88e0fe9c",
   "metadata": {},
   "outputs": [
    {
     "name": "stdout",
     "output_type": "stream",
     "text": [
      "139\n",
      "45\n",
      "[4, 30, 2, 10]\n",
      "[5, 4, 17, 19, 30]\n"
     ]
    }
   ],
   "source": [
    "ls = [5, 4, 17, 19, 30, 2, 7, 10, 45]\n",
    "#Q1 \n",
    "lsSum = sum(ls)\n",
    "print(lsSum)\n",
    "#Q2\n",
    "lsLargest = max(ls)\n",
    "print(lsLargest)\n",
    " \n",
    "#Q3\n",
    "evenLst = [n for n in ls if n % 2 == 0]\n",
    "print(evenLst)\n",
    "#Q4\n",
    "ls2 = ls[:5]\n",
    "print(ls2)\n",
    "\n",
    "\n",
    "# Note: we could always do it by ourselves rather than using the built in functions\n",
    "# but most of the time it is better use the built in function for many reasons"
   ]
  },
  {
   "cell_type": "markdown",
   "id": "4df61e4c",
   "metadata": {},
   "source": [
    "## Lab2-Dictionary\n",
    "\n",
    "Build a phone book program that receives the phone number, and returns the name of the owner. \n",
    "You can follow the table below:\n",
    "\n",
    "| Name    | Number      |\n",
    "| -------- | ---------- |\n",
    "| Amal     | 1111111111 |\n",
    "| Mohammed | 2222222222 |\n",
    "| Khadijah | 3333333333 |\n",
    "| Abdullah  | 4444444444 |\n",
    "| Rawan    | 5555555555 |\n",
    "| Faisal   | 6666666666 |\n",
    "| Layla    | 7777777777 |\n",
    "\n",
    "\n",
    "- If the number exists, print the owner. Otherwise, print \"Sorry, the number is not found\".\n",
    "- If the number is less or more than 10 numbers, print \"This is invalid number\".\n",
    "- If the number contains letters or symbols, print \"This is invalid number\"."
   ]
  },
  {
   "cell_type": "code",
   "execution_count": 7,
   "id": "7d53c06c",
   "metadata": {},
   "outputs": [
    {
     "name": "stdout",
     "output_type": "stream",
     "text": [
      "The name of the owner of phone number 7777777777 is:  Layla\n"
     ]
    }
   ],
   "source": [
    "# create a dictionary with names as keys and numbers as values\n",
    "phoneBook = {'Amal': '1111111111', 'Mohammed': '2222222222', 'Khadijah': '3333333333', \n",
    "             'Abdullah': '4444444444', 'Rawan': '5555555555', 'Faisal': '6666666666', 'Layla': '7777777777'}\n",
    "\n",
    "# get input from the user and cast it into string \n",
    "phone = str(input(\"Please enter the phone number: \"))\n",
    "\n",
    "# a boolean flag to know if we found the number in the phoneBook \n",
    "found = False\n",
    "\n",
    "for key, value in phoneBook.items():\n",
    "    #check if the number length doesn't equal to 10 or if it contain any symbols or characters (Q2 and Q3) if so exit the loop\n",
    "    if len(phone) != 10 or not phone.isdigit():\n",
    "        print(\"This is invalid number\")\n",
    "        break\n",
    "    #if we found the number in the phone book we give the name of the number and change the flag (found) to True to know that we have found it and exit the loop\n",
    "    if(phone == value):\n",
    "        print(\"The name of the owner of phone number\", phone, \"is:\",key)\n",
    "        found = True\n",
    "        break\n",
    "\n",
    "#if didn't find the number in the phone book we print the messege to let the user know\n",
    "if not found:\n",
    "    print(\"Sorry, the number is not found\")"
   ]
  },
  {
   "cell_type": "code",
   "execution_count": null,
   "id": "ffdffaec",
   "metadata": {},
   "outputs": [],
   "source": []
  },
  {
   "cell_type": "code",
   "execution_count": null,
   "id": "93b05ba5",
   "metadata": {},
   "outputs": [],
   "source": []
  }
 ],
 "metadata": {
  "kernelspec": {
   "display_name": "Python 3 (ipykernel)",
   "language": "python",
   "name": "python3"
  },
  "language_info": {
   "codemirror_mode": {
    "name": "ipython",
    "version": 3
   },
   "file_extension": ".py",
   "mimetype": "text/x-python",
   "name": "python",
   "nbconvert_exporter": "python",
   "pygments_lexer": "ipython3",
   "version": "3.11.5"
  }
 },
 "nbformat": 4,
 "nbformat_minor": 5
}
